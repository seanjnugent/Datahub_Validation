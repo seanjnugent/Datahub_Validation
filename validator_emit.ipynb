{
 "cells": [
  {
   "cell_type": "code",
   "execution_count": 13,
   "metadata": {},
   "outputs": [],
   "source": [
    "import os\n",
    "from dotenv import load_dotenv\n",
    "import great_expectations as ge\n",
    "from great_expectations.checkpoint import Checkpoint\n",
    "from datahub.integrations.great_expectations.action import DataHubValidationAction\n",
    "import importlib\n",
    "import pkgutil\n",
    "\n",
    "# Load environment variables from .env file\n",
    "load_dotenv()\n",
    "\n",
    "# Step 1: Get the secrets from environment variables\n",
    "pg_connection_string = os.getenv(\"PG_CONNECTION_STRING\")\n",
    "datahub_token = os.getenv(\"DATAHUB_TOKEN\")\n",
    "datahub_server_url = os.getenv(\"DATAHUB_SERVER_URL\")\n"
   ]
  },
  {
   "cell_type": "code",
   "execution_count": null,
   "metadata": {},
   "outputs": [],
   "source": [
    "\n",
    "# Step 2: Configure the PostgreSQL Datasource with environment variable\n",
    "context = ge.get_context()\n",
    "\n",
    "datasource_config = {\n",
    "    \"name\": \"pg_datasource\",\n",
    "    \"class_name\": \"Datasource\",\n",
    "    \"execution_engine\": {\n",
    "        \"class_name\": \"SqlAlchemyExecutionEngine\",\n",
    "        \"module_name\": \"great_expectations.execution_engine\",\n",
    "        \"connection_string\": pg_connection_string,\n",
    "    },\n",
    "    \"data_connectors\": {\n",
    "        \"default_inferred_data_connector_name\": {\n",
    "            \"class_name\": \"InferredAssetSqlDataConnector\",\n",
    "            \"module_name\": \"great_expectations.datasource.data_connector\",\n",
    "            \"include_schema_name\": True,\n",
    "            \"name\": \"default_inferred_data_connector\",\n",
    "        }\n",
    "    },\n",
    "}\n",
    "\n",
    "context.add_datasource(**datasource_config)\n"
   ]
  },
  {
   "cell_type": "code",
   "execution_count": null,
   "metadata": {},
   "outputs": [],
   "source": [
    "\n",
    "# Step 3: Import all validation modules from the 'validations' folder\n",
    "validations_folder = \"validations\"\n",
    "\n",
    "for _, module_name, _ in pkgutil.iter_modules([validations_folder]):\n",
    "    full_module_name = f\"{validations_folder}.{module_name}\"\n",
    "    validation_module = importlib.import_module(full_module_name)\n",
    "    \n",
    "    # Run the validation\n",
    "    batch_request, expectation_suite_name = validation_module.run_validation(context)\n",
    "\n",
    "    # Step 4: Register the custom DataHub action with token from the environment variable\n",
    "    custom_actions = {\n",
    "        \"send_to_datahub\": {\n",
    "            \"class_name\": \"DataHubValidationAction\",\n",
    "            \"module_name\": \"datahub.integrations.great_expectations.action\",\n",
    "            \"server_url\": datahub_server_url,\n",
    "            \"token\": datahub_token,\n",
    "        }\n",
    "    }\n"
   ]
  },
  {
   "cell_type": "code",
   "execution_count": null,
   "metadata": {},
   "outputs": [],
   "source": [
    "\n",
    "    # Step 5: Define a Checkpoint that will use the custom action\n",
    "    checkpoint_config = {\n",
    "        \"name\": f\"my_pg_checkpoint_{module_name}\",\n",
    "        \"config_version\": 1.0,\n",
    "        \"class_name\": \"Checkpoint\",\n",
    "        \"run_name_template\": \"%Y-%m-%d-%H-%M-%S-my-checkpoint\",\n",
    "        \"expectation_suite_name\": expectation_suite_name,\n",
    "        \"batch_request\": batch_request,\n",
    "        \"action_list\": [\n",
    "            {\n",
    "                \"name\": \"store_validation_result\",\n",
    "                \"action\": {\n",
    "                    \"class_name\": \"StoreValidationResultAction\",\n",
    "                },\n",
    "            },\n",
    "            {\n",
    "                \"name\": \"store_evaluation_params\",\n",
    "                \"action\": {\n",
    "                    \"class_name\": \"StoreEvaluationParametersAction\",\n",
    "                },\n",
    "            },\n",
    "            {\n",
    "                \"name\": \"send_to_datahub\",\n",
    "                \"action\": custom_actions[\"send_to_datahub\"],\n",
    "            },\n",
    "        ],\n",
    "    }\n",
    "\n",
    "    context.add_checkpoint(**checkpoint_config)\n",
    "\n",
    "    # Step 6: Run the Checkpoint\n",
    "    context.run_checkpoint(checkpoint_name=f\"my_pg_checkpoint_{module_name}\")\n"
   ]
  }
 ],
 "metadata": {
  "kernelspec": {
   "display_name": "Python 3",
   "language": "python",
   "name": "python3"
  },
  "language_info": {
   "codemirror_mode": {
    "name": "ipython",
    "version": 3
   },
   "file_extension": ".py",
   "mimetype": "text/x-python",
   "name": "python",
   "nbconvert_exporter": "python",
   "pygments_lexer": "ipython3",
   "version": "3.10.11"
  }
 },
 "nbformat": 4,
 "nbformat_minor": 2
}
