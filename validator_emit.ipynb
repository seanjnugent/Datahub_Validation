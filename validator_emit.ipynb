{
 "cells": [
  {
   "cell_type": "code",
   "execution_count": 20,
   "metadata": {},
   "outputs": [],
   "source": [
    "import os\n",
    "from dotenv import load_dotenv\n",
    "import great_expectations as ge\n",
    "\n",
    "# load env variables\n",
    "load_dotenv()\n",
    "\n",
    "# get secrets from environment variables\n",
    "pg_connection_string = os.getenv(\"PG_CONNECTION_STRING\")\n",
    "datahub_token = os.getenv(\"DATAHUB_TOKEN\")\n",
    "datahub_server_url = os.getenv(\"DATAHUB_SERVER_URL\")\n"
   ]
  },
  {
   "cell_type": "code",
   "execution_count": 21,
   "metadata": {},
   "outputs": [
    {
     "data": {
      "text/plain": [
       "<great_expectations.datasource.new_datasource.Datasource at 0x28913928160>"
      ]
     },
     "execution_count": 21,
     "metadata": {},
     "output_type": "execute_result"
    }
   ],
   "source": [
    "\n",
    "# configure the datasource - must exist in datahub for UI visibility\n",
    "context = ge.get_context()\n",
    "\n",
    "datasource_config = {\n",
    "    \"name\": \"pg_datasource\",\n",
    "    \"class_name\": \"Datasource\",\n",
    "    \"execution_engine\": {\n",
    "        \"class_name\": \"SqlAlchemyExecutionEngine\",\n",
    "        \"module_name\": \"great_expectations.execution_engine\",\n",
    "        \"connection_string\": pg_connection_string,\n",
    "    },\n",
    "    \"data_connectors\": {\n",
    "        \"default_inferred_data_connector_name\": {\n",
    "            \"class_name\": \"InferredAssetSqlDataConnector\",\n",
    "            \"module_name\": \"great_expectations.datasource.data_connector\",\n",
    "            \"include_schema_name\": True,\n",
    "            \"name\": \"default_inferred_data_connector\",\n",
    "        }\n",
    "    },\n",
    "}\n",
    "\n",
    "context.add_datasource(**datasource_config)\n"
   ]
  },
  {
   "cell_type": "code",
   "execution_count": 22,
   "metadata": {},
   "outputs": [
    {
     "data": {
      "application/vnd.jupyter.widget-view+json": {
       "model_id": "5bc0f15d4f1e44ffb407d2b69e9a1814",
       "version_major": 2,
       "version_minor": 0
      },
      "text/plain": [
       "Calculating Metrics:   0%|          | 0/11 [00:00<?, ?it/s]"
      ]
     },
     "metadata": {},
     "output_type": "display_data"
    },
    {
     "data": {
      "application/vnd.jupyter.widget-view+json": {
       "model_id": "a0665023d17f4dc9ba2c8b04d531a1a5",
       "version_major": 2,
       "version_minor": 0
      },
      "text/plain": [
       "Calculating Metrics:   0%|          | 0/11 [00:00<?, ?it/s]"
      ]
     },
     "metadata": {},
     "output_type": "display_data"
    }
   ],
   "source": [
    "from validations.validation_suite import run_combined_validation\n",
    "\n",
    "# send to datahub action\n",
    "custom_actions = {\n",
    "    \"send_to_datahub\": {\n",
    "        \"class_name\": \"DataHubValidationAction\",\n",
    "        \"module_name\": \"datahub.integrations.great_expectations.action\",\n",
    "        \"server_url\": datahub_server_url,\n",
    "        \"token\": datahub_token,\n",
    "    }\n",
    "}\n",
    "\n",
    "# run tests from validation suite\n",
    "batch_requests_and_suites = run_combined_validation(context)\n"
   ]
  },
  {
   "cell_type": "code",
   "execution_count": 23,
   "metadata": {},
   "outputs": [
    {
     "data": {
      "application/vnd.jupyter.widget-view+json": {
       "model_id": "226aa888edc346f8b7635a6ed01de637",
       "version_major": 2,
       "version_minor": 0
      },
      "text/plain": [
       "Calculating Metrics:   0%|          | 0/13 [00:00<?, ?it/s]"
      ]
     },
     "metadata": {},
     "output_type": "display_data"
    },
    {
     "name": "stderr",
     "output_type": "stream",
     "text": [
      "Datasource pg_datasource is not present in platform_instance_map\n"
     ]
    },
    {
     "data": {
      "application/vnd.jupyter.widget-view+json": {
       "model_id": "4a98752fbec645f8a825a7ff51b64fea",
       "version_major": 2,
       "version_minor": 0
      },
      "text/plain": [
       "Calculating Metrics:   0%|          | 0/13 [00:00<?, ?it/s]"
      ]
     },
     "metadata": {},
     "output_type": "display_data"
    },
    {
     "name": "stderr",
     "output_type": "stream",
     "text": [
      "Datasource pg_datasource is not present in platform_instance_map\n"
     ]
    }
   ],
   "source": [
    "\n",
    "# cycle through batch requests\n",
    "for batch_request, expectation_suite_name in batch_requests_and_suites:\n",
    "    checkpoint_config = {\n",
    "        \"name\": f\"my_pg_checkpoint_{expectation_suite_name}\",\n",
    "        \"config_version\": 1.0,\n",
    "        \"class_name\": \"Checkpoint\",\n",
    "        \"run_name_template\": \"%Y-%m-%d-%H-%M-%S-my-checkpoint\",\n",
    "        \"expectation_suite_name\": expectation_suite_name,\n",
    "        \"batch_request\": batch_request,\n",
    "        \"action_list\": [\n",
    "            {\n",
    "                \"name\": \"store_validation_result\",\n",
    "                \"action\": {\n",
    "                    \"class_name\": \"StoreValidationResultAction\",\n",
    "                },\n",
    "            },\n",
    "            {\n",
    "                \"name\": \"store_evaluation_params\",\n",
    "                \"action\": {\n",
    "                    \"class_name\": \"StoreEvaluationParametersAction\",\n",
    "                },\n",
    "            },\n",
    "            {\n",
    "                \"name\": \"send_to_datahub\",\n",
    "                \"action\": custom_actions[\"send_to_datahub\"],\n",
    "            },\n",
    "        ],\n",
    "    }\n",
    "    \n",
    "    # Add and run the checkpoint\n",
    "    context.add_checkpoint(**checkpoint_config)\n",
    "    context.run_checkpoint(checkpoint_name=f\"my_pg_checkpoint_{expectation_suite_name}\")\n"
   ]
  }
 ],
 "metadata": {
  "kernelspec": {
   "display_name": "Python 3",
   "language": "python",
   "name": "python3"
  },
  "language_info": {
   "codemirror_mode": {
    "name": "ipython",
    "version": 3
   },
   "file_extension": ".py",
   "mimetype": "text/x-python",
   "name": "python",
   "nbconvert_exporter": "python",
   "pygments_lexer": "ipython3",
   "version": "3.10.11"
  }
 },
 "nbformat": 4,
 "nbformat_minor": 2
}
