{
 "cells": [
  {
   "cell_type": "code",
   "execution_count": 9,
   "metadata": {},
   "outputs": [],
   "source": [
    "import os\n",
    "from dotenv import load_dotenv\n",
    "import great_expectations as ge\n",
    "\n",
    "# load env variables\n",
    "load_dotenv()\n",
    "\n",
    "# get secrets from environment variables\n",
    "pg_connection_string = os.getenv(\"PG_CONNECTION_STRING\")\n",
    "datahub_token = os.getenv(\"DATAHUB_TOKEN\")\n",
    "datahub_server_url = os.getenv(\"DATAHUB_SERVER_URL\")\n"
   ]
  },
  {
   "cell_type": "code",
   "execution_count": 12,
   "metadata": {},
   "outputs": [
    {
     "data": {
      "text/plain": [
       "<great_expectations.datasource.new_datasource.Datasource at 0x294f9b82350>"
      ]
     },
     "execution_count": 12,
     "metadata": {},
     "output_type": "execute_result"
    }
   ],
   "source": [
    "\n",
    "# configure the datasource - must exist in datahub for UI visibility\n",
    "context = ge.get_context()\n",
    "\n",
    "datasource_config = {\n",
    "    \"name\": \"pg_datasource\",\n",
    "    \"class_name\": \"Datasource\",\n",
    "    \"execution_engine\": {\n",
    "        \"class_name\": \"SqlAlchemyExecutionEngine\",\n",
    "        \"module_name\": \"great_expectations.execution_engine\",\n",
    "        \"connection_string\": pg_connection_string,\n",
    "    },\n",
    "    \"data_connectors\": {\n",
    "        \"default_inferred_data_connector_name\": {\n",
    "            \"class_name\": \"InferredAssetSqlDataConnector\",\n",
    "            \"module_name\": \"great_expectations.datasource.data_connector\",\n",
    "            \"include_schema_name\": True,\n",
    "            \"name\": \"default_inferred_data_connector\",\n",
    "        }\n",
    "    },\n",
    "}\n",
    "\n",
    "context.add_datasource(**datasource_config)\n"
   ]
  },
  {
   "cell_type": "code",
   "execution_count": 13,
   "metadata": {},
   "outputs": [
    {
     "data": {
      "application/vnd.jupyter.widget-view+json": {
       "model_id": "fc68878ae6bb48528deb9a0110494e29",
       "version_major": 2,
       "version_minor": 0
      },
      "text/plain": [
       "Calculating Metrics:   0%|          | 0/11 [00:00<?, ?it/s]"
      ]
     },
     "metadata": {},
     "output_type": "display_data"
    },
    {
     "ename": "MetricResolutionError",
     "evalue": "Error: The column \"column_name\" in BatchData does not exist.",
     "output_type": "error",
     "traceback": [
      "\u001b[1;31m---------------------------------------------------------------------------\u001b[0m",
      "\u001b[1;31mInvalidMetricAccessorDomainKwargsKeyError\u001b[0m Traceback (most recent call last)",
      "File \u001b[1;32m~\\AppData\\Local\\Packages\\PythonSoftwareFoundation.Python.3.10_qbz5n2kfra8p0\\LocalCache\\local-packages\\Python310\\site-packages\\great_expectations\\execution_engine\\execution_engine.py:555\u001b[0m, in \u001b[0;36mExecutionEngine._process_direct_and_bundled_metric_computation_configurations\u001b[1;34m(self, metric_fn_direct_configurations, metric_fn_bundle_configurations)\u001b[0m\n\u001b[0;32m    552\u001b[0m \u001b[38;5;28;01mtry\u001b[39;00m:\n\u001b[0;32m    553\u001b[0m     resolved_metrics[\n\u001b[0;32m    554\u001b[0m         metric_computation_configuration\u001b[38;5;241m.\u001b[39mmetric_configuration\u001b[38;5;241m.\u001b[39mid\n\u001b[1;32m--> 555\u001b[0m     ] \u001b[38;5;241m=\u001b[39m metric_computation_configuration\u001b[38;5;241m.\u001b[39mmetric_fn(\n\u001b[0;32m    556\u001b[0m         \u001b[38;5;241m*\u001b[39m\u001b[38;5;241m*\u001b[39mmetric_computation_configuration\u001b[38;5;241m.\u001b[39mmetric_provider_kwargs\n\u001b[0;32m    557\u001b[0m     )\n\u001b[0;32m    558\u001b[0m \u001b[38;5;28;01mexcept\u001b[39;00m \u001b[38;5;167;01mException\u001b[39;00m \u001b[38;5;28;01mas\u001b[39;00m e:\n",
      "File \u001b[1;32m~\\AppData\\Local\\Packages\\PythonSoftwareFoundation.Python.3.10_qbz5n2kfra8p0\\LocalCache\\local-packages\\Python310\\site-packages\\great_expectations\\expectations\\metrics\\metric_provider.py:90\u001b[0m, in \u001b[0;36mmetric_partial.<locals>.wrapper.<locals>.inner_func\u001b[1;34m(*args, **kwargs)\u001b[0m\n\u001b[0;32m     88\u001b[0m \u001b[38;5;129m@wraps\u001b[39m(metric_fn)\n\u001b[0;32m     89\u001b[0m \u001b[38;5;28;01mdef\u001b[39;00m \u001b[38;5;21minner_func\u001b[39m(\u001b[38;5;241m*\u001b[39margs, \u001b[38;5;241m*\u001b[39m\u001b[38;5;241m*\u001b[39mkwargs):\n\u001b[1;32m---> 90\u001b[0m     \u001b[38;5;28;01mreturn\u001b[39;00m metric_fn(\u001b[38;5;241m*\u001b[39margs, \u001b[38;5;241m*\u001b[39m\u001b[38;5;241m*\u001b[39mkwargs)\n",
      "File \u001b[1;32m~\\AppData\\Local\\Packages\\PythonSoftwareFoundation.Python.3.10_qbz5n2kfra8p0\\LocalCache\\local-packages\\Python310\\site-packages\\great_expectations\\expectations\\metrics\\map_metric_provider.py:427\u001b[0m, in \u001b[0;36mcolumn_condition_partial.<locals>.wrapper.<locals>.inner_func\u001b[1;34m(cls, execution_engine, metric_domain_kwargs, metric_value_kwargs, metrics, runtime_configuration)\u001b[0m\n\u001b[0;32m    425\u001b[0m column_name: Union[\u001b[38;5;28mstr\u001b[39m, quoted_name] \u001b[38;5;241m=\u001b[39m accessor_domain_kwargs[\u001b[38;5;124m\"\u001b[39m\u001b[38;5;124mcolumn\u001b[39m\u001b[38;5;124m\"\u001b[39m]\n\u001b[1;32m--> 427\u001b[0m column_name \u001b[38;5;241m=\u001b[39m \u001b[43mget_dbms_compatible_column_names\u001b[49m\u001b[43m(\u001b[49m\n\u001b[0;32m    428\u001b[0m \u001b[43m    \u001b[49m\u001b[43mcolumn_names\u001b[49m\u001b[38;5;241;43m=\u001b[39;49m\u001b[43mcolumn_name\u001b[49m\u001b[43m,\u001b[49m\n\u001b[0;32m    429\u001b[0m \u001b[43m    \u001b[49m\u001b[43mbatch_columns_list\u001b[49m\u001b[38;5;241;43m=\u001b[39;49m\u001b[43mmetrics\u001b[49m\u001b[43m[\u001b[49m\u001b[38;5;124;43m\"\u001b[39;49m\u001b[38;5;124;43mtable.columns\u001b[39;49m\u001b[38;5;124;43m\"\u001b[39;49m\u001b[43m]\u001b[49m\u001b[43m,\u001b[49m\n\u001b[0;32m    430\u001b[0m \u001b[43m\u001b[49m\u001b[43m)\u001b[49m\n\u001b[0;32m    432\u001b[0m sqlalchemy_engine: Engine \u001b[38;5;241m=\u001b[39m execution_engine\u001b[38;5;241m.\u001b[39mengine\n",
      "File \u001b[1;32m~\\AppData\\Local\\Packages\\PythonSoftwareFoundation.Python.3.10_qbz5n2kfra8p0\\LocalCache\\local-packages\\Python310\\site-packages\\great_expectations\\expectations\\metrics\\util.py:673\u001b[0m, in \u001b[0;36mget_dbms_compatible_column_names\u001b[1;34m(column_names, batch_columns_list, error_message_template)\u001b[0m\n\u001b[0;32m    653\u001b[0m \u001b[38;5;250m\u001b[39m\u001b[38;5;124;03m\"\"\"\u001b[39;00m\n\u001b[0;32m    654\u001b[0m \u001b[38;5;124;03mCase non-sensitivity is expressed in upper case by common DBMS backends and in lower case by SQLAlchemy, with any\u001b[39;00m\n\u001b[0;32m    655\u001b[0m \u001b[38;5;124;03mdeviations enclosed with double quotes.\u001b[39;00m\n\u001b[1;32m   (...)\u001b[0m\n\u001b[0;32m    668\u001b[0m \u001b[38;5;124;03m    Single property-typed column name object or list of property-typed column name objects (depending on input).\u001b[39;00m\n\u001b[0;32m    669\u001b[0m \u001b[38;5;124;03m\"\"\"\u001b[39;00m\n\u001b[0;32m    670\u001b[0m normalized_typed_batch_columns_mappings: List[\n\u001b[0;32m    671\u001b[0m     Tuple[\u001b[38;5;28mstr\u001b[39m, \u001b[38;5;28mstr\u001b[39m \u001b[38;5;241m|\u001b[39m sqlalchemy\u001b[38;5;241m.\u001b[39msql\u001b[38;5;241m.\u001b[39mquoted_name]\n\u001b[0;32m    672\u001b[0m ] \u001b[38;5;241m=\u001b[39m (\n\u001b[1;32m--> 673\u001b[0m     \u001b[43m_verify_column_names_exist_and_get_normalized_typed_column_names_map\u001b[49m\u001b[43m(\u001b[49m\n\u001b[0;32m    674\u001b[0m \u001b[43m        \u001b[49m\u001b[43mcolumn_names\u001b[49m\u001b[38;5;241;43m=\u001b[39;49m\u001b[43mcolumn_names\u001b[49m\u001b[43m,\u001b[49m\n\u001b[0;32m    675\u001b[0m \u001b[43m        \u001b[49m\u001b[43mbatch_columns_list\u001b[49m\u001b[38;5;241;43m=\u001b[39;49m\u001b[43mbatch_columns_list\u001b[49m\u001b[43m,\u001b[49m\n\u001b[0;32m    676\u001b[0m \u001b[43m        \u001b[49m\u001b[43merror_message_template\u001b[49m\u001b[38;5;241;43m=\u001b[39;49m\u001b[43merror_message_template\u001b[49m\u001b[43m,\u001b[49m\n\u001b[0;32m    677\u001b[0m \u001b[43m    \u001b[49m\u001b[43m)\u001b[49m\n\u001b[0;32m    678\u001b[0m     \u001b[38;5;129;01mor\u001b[39;00m []\n\u001b[0;32m    679\u001b[0m )\n\u001b[0;32m    681\u001b[0m element: Tuple[\u001b[38;5;28mstr\u001b[39m, \u001b[38;5;28mstr\u001b[39m \u001b[38;5;241m|\u001b[39m sqlalchemy\u001b[38;5;241m.\u001b[39msql\u001b[38;5;241m.\u001b[39mquoted_name]\n",
      "File \u001b[1;32m~\\AppData\\Local\\Packages\\PythonSoftwareFoundation.Python.3.10_qbz5n2kfra8p0\\LocalCache\\local-packages\\Python310\\site-packages\\great_expectations\\expectations\\metrics\\util.py:752\u001b[0m, in \u001b[0;36m_verify_column_names_exist_and_get_normalized_typed_column_names_map\u001b[1;34m(column_names, batch_columns_list, error_message_template, verify_only)\u001b[0m\n\u001b[0;32m    751\u001b[0m \u001b[38;5;28;01mif\u001b[39;00m normalized_column_name_mapping \u001b[38;5;129;01mis\u001b[39;00m \u001b[38;5;28;01mNone\u001b[39;00m:\n\u001b[1;32m--> 752\u001b[0m     \u001b[38;5;28;01mraise\u001b[39;00m gx_exceptions\u001b[38;5;241m.\u001b[39mInvalidMetricAccessorDomainKwargsKeyError(\n\u001b[0;32m    753\u001b[0m         message\u001b[38;5;241m=\u001b[39merror_message_template\u001b[38;5;241m.\u001b[39mformat(column_name\u001b[38;5;241m=\u001b[39mcolumn_name)\n\u001b[0;32m    754\u001b[0m     )\n\u001b[0;32m    755\u001b[0m \u001b[38;5;28;01melse\u001b[39;00m:\n",
      "\u001b[1;31mInvalidMetricAccessorDomainKwargsKeyError\u001b[0m: Error: The column \"column_name\" in BatchData does not exist.",
      "\nThe above exception was the direct cause of the following exception:\n",
      "\u001b[1;31mMetricResolutionError\u001b[0m                     Traceback (most recent call last)",
      "Cell \u001b[1;32mIn[13], line 14\u001b[0m\n\u001b[0;32m      4\u001b[0m custom_actions \u001b[38;5;241m=\u001b[39m {\n\u001b[0;32m      5\u001b[0m     \u001b[38;5;124m\"\u001b[39m\u001b[38;5;124msend_to_datahub\u001b[39m\u001b[38;5;124m\"\u001b[39m: {\n\u001b[0;32m      6\u001b[0m         \u001b[38;5;124m\"\u001b[39m\u001b[38;5;124mclass_name\u001b[39m\u001b[38;5;124m\"\u001b[39m: \u001b[38;5;124m\"\u001b[39m\u001b[38;5;124mDataHubValidationAction\u001b[39m\u001b[38;5;124m\"\u001b[39m,\n\u001b[1;32m   (...)\u001b[0m\n\u001b[0;32m     10\u001b[0m     }\n\u001b[0;32m     11\u001b[0m }\n\u001b[0;32m     13\u001b[0m \u001b[38;5;66;03m# run tests from validation suite\u001b[39;00m\n\u001b[1;32m---> 14\u001b[0m batch_requests_and_suites \u001b[38;5;241m=\u001b[39m \u001b[43mrun_combined_validation\u001b[49m\u001b[43m(\u001b[49m\u001b[43mcontext\u001b[49m\u001b[43m)\u001b[49m\n",
      "File \u001b[1;32mc:\\Users\\seanj\\Documents\\New folder\\Datahub_Validation\\validation_suite.py:6\u001b[0m, in \u001b[0;36mrun_combined_validation\u001b[1;34m(context)\u001b[0m\n\u001b[0;32m      3\u001b[0m \u001b[38;5;28;01mdef\u001b[39;00m \u001b[38;5;21mrun_combined_validation\u001b[39m(context):\n\u001b[0;32m      4\u001b[0m \n\u001b[0;32m      5\u001b[0m     \u001b[38;5;66;03m# Run validations\u001b[39;00m\n\u001b[1;32m----> 6\u001b[0m     name_batch_request, name_expectation_suite_name \u001b[38;5;241m=\u001b[39m \u001b[43mrun_non_numeric_validation\u001b[49m\u001b[43m(\u001b[49m\u001b[43mcontext\u001b[49m\u001b[43m)\u001b[49m\n\u001b[0;32m      8\u001b[0m     \u001b[38;5;66;03m# Return batch requests for the above\u001b[39;00m\n\u001b[0;32m      9\u001b[0m     \u001b[38;5;66;03m# to-do - dynamically parse from validations folder\u001b[39;00m\n\u001b[0;32m     10\u001b[0m     \u001b[38;5;28;01mreturn\u001b[39;00m [\n\u001b[0;32m     11\u001b[0m         (name_batch_request, name_expectation_suite_name)\n\u001b[0;32m     12\u001b[0m     ]\n",
      "File \u001b[1;32mc:\\Users\\seanj\\Documents\\New folder\\Datahub_Validation\\validations\\name_validation.py:23\u001b[0m, in \u001b[0;36mrun_non_numeric_validation\u001b[1;34m(context)\u001b[0m\n\u001b[0;32m     20\u001b[0m NON_NUMERIC_REGEX \u001b[38;5;241m=\u001b[39m \u001b[38;5;124mr\u001b[39m\u001b[38;5;124m\"\u001b[39m\u001b[38;5;124m^\u001b[39m\u001b[38;5;124m\\\u001b[39m\u001b[38;5;124mD+$\u001b[39m\u001b[38;5;124m\"\u001b[39m  \u001b[38;5;66;03m# Matches any string that contains no digits (non-numeric)\u001b[39;00m\n\u001b[0;32m     22\u001b[0m \u001b[38;5;66;03m# Validate if column values are non-numeric using regex\u001b[39;00m\n\u001b[1;32m---> 23\u001b[0m \u001b[43mvalidator\u001b[49m\u001b[38;5;241;43m.\u001b[39;49m\u001b[43mexpect_column_values_to_match_regex\u001b[49m\u001b[43m(\u001b[49m\u001b[38;5;124;43m\"\u001b[39;49m\u001b[38;5;124;43mcolumn_name\u001b[39;49m\u001b[38;5;124;43m\"\u001b[39;49m\u001b[43m,\u001b[49m\u001b[43m \u001b[49m\u001b[43mNON_NUMERIC_REGEX\u001b[49m\u001b[43m)\u001b[49m\n\u001b[0;32m     25\u001b[0m \u001b[38;5;66;03m# Save expectation suite\u001b[39;00m\n\u001b[0;32m     26\u001b[0m validator\u001b[38;5;241m.\u001b[39msave_expectation_suite(discard_failed_expectations\u001b[38;5;241m=\u001b[39m\u001b[38;5;28;01mFalse\u001b[39;00m)\n",
      "File \u001b[1;32m~\\AppData\\Local\\Packages\\PythonSoftwareFoundation.Python.3.10_qbz5n2kfra8p0\\LocalCache\\local-packages\\Python310\\site-packages\\great_expectations\\validator\\validator.py:606\u001b[0m, in \u001b[0;36mValidator.validate_expectation.<locals>.inst_expectation\u001b[1;34m(*args, **kwargs)\u001b[0m\n\u001b[0;32m    600\u001b[0m         validation_result \u001b[38;5;241m=\u001b[39m ExpectationValidationResult(\n\u001b[0;32m    601\u001b[0m             success\u001b[38;5;241m=\u001b[39m\u001b[38;5;28;01mFalse\u001b[39;00m,\n\u001b[0;32m    602\u001b[0m             exception_info\u001b[38;5;241m=\u001b[39mexception_info,\n\u001b[0;32m    603\u001b[0m             expectation_config\u001b[38;5;241m=\u001b[39mconfiguration,\n\u001b[0;32m    604\u001b[0m         )\n\u001b[0;32m    605\u001b[0m     \u001b[38;5;28;01melse\u001b[39;00m:\n\u001b[1;32m--> 606\u001b[0m         \u001b[38;5;28;01mraise\u001b[39;00m err\n\u001b[0;32m    608\u001b[0m \u001b[38;5;28;01mif\u001b[39;00m \u001b[38;5;28mself\u001b[39m\u001b[38;5;241m.\u001b[39m_include_rendered_content:\n\u001b[0;32m    609\u001b[0m     validation_result\u001b[38;5;241m.\u001b[39mrender()\n",
      "File \u001b[1;32m~\\AppData\\Local\\Packages\\PythonSoftwareFoundation.Python.3.10_qbz5n2kfra8p0\\LocalCache\\local-packages\\Python310\\site-packages\\great_expectations\\validator\\validator.py:569\u001b[0m, in \u001b[0;36mValidator.validate_expectation.<locals>.inst_expectation\u001b[1;34m(*args, **kwargs)\u001b[0m\n\u001b[0;32m    565\u001b[0m     validation_result \u001b[38;5;241m=\u001b[39m ExpectationValidationResult(\n\u001b[0;32m    566\u001b[0m         expectation_config\u001b[38;5;241m=\u001b[39mcopy\u001b[38;5;241m.\u001b[39mdeepcopy(expectation\u001b[38;5;241m.\u001b[39mconfiguration)\n\u001b[0;32m    567\u001b[0m     )\n\u001b[0;32m    568\u001b[0m \u001b[38;5;28;01melse\u001b[39;00m:\n\u001b[1;32m--> 569\u001b[0m     validation_result \u001b[38;5;241m=\u001b[39m \u001b[43mexpectation\u001b[49m\u001b[38;5;241;43m.\u001b[39;49m\u001b[43mvalidate\u001b[49m\u001b[43m(\u001b[49m\n\u001b[0;32m    570\u001b[0m \u001b[43m        \u001b[49m\u001b[43mvalidator\u001b[49m\u001b[38;5;241;43m=\u001b[39;49m\u001b[38;5;28;43mself\u001b[39;49m\u001b[43m,\u001b[49m\n\u001b[0;32m    571\u001b[0m \u001b[43m        \u001b[49m\u001b[43mevaluation_parameters\u001b[49m\u001b[38;5;241;43m=\u001b[39;49m\u001b[38;5;28;43mself\u001b[39;49m\u001b[38;5;241;43m.\u001b[39;49m\u001b[43m_expectation_suite\u001b[49m\u001b[38;5;241;43m.\u001b[39;49m\u001b[43mevaluation_parameters\u001b[49m\u001b[43m,\u001b[49m\n\u001b[0;32m    572\u001b[0m \u001b[43m        \u001b[49m\u001b[43mdata_context\u001b[49m\u001b[38;5;241;43m=\u001b[39;49m\u001b[38;5;28;43mself\u001b[39;49m\u001b[38;5;241;43m.\u001b[39;49m\u001b[43m_data_context\u001b[49m\u001b[43m,\u001b[49m\n\u001b[0;32m    573\u001b[0m \u001b[43m        \u001b[49m\u001b[43mruntime_configuration\u001b[49m\u001b[38;5;241;43m=\u001b[39;49m\u001b[43mbasic_runtime_configuration\u001b[49m\u001b[43m,\u001b[49m\n\u001b[0;32m    574\u001b[0m \u001b[43m    \u001b[49m\u001b[43m)\u001b[49m\n\u001b[0;32m    576\u001b[0m \u001b[38;5;66;03m# If validate has set active_validation to true, then we do not save the config to avoid\u001b[39;00m\n\u001b[0;32m    577\u001b[0m \u001b[38;5;66;03m# saving updating expectation configs to the same suite during validation runs\u001b[39;00m\n\u001b[0;32m    578\u001b[0m \u001b[38;5;28;01mif\u001b[39;00m \u001b[38;5;28mself\u001b[39m\u001b[38;5;241m.\u001b[39m_active_validation \u001b[38;5;129;01mis\u001b[39;00m \u001b[38;5;28;01mTrue\u001b[39;00m:\n",
      "File \u001b[1;32m~\\AppData\\Local\\Packages\\PythonSoftwareFoundation.Python.3.10_qbz5n2kfra8p0\\LocalCache\\local-packages\\Python310\\site-packages\\great_expectations\\expectations\\expectation.py:1263\u001b[0m, in \u001b[0;36mExpectation.validate\u001b[1;34m(self, validator, configuration, evaluation_parameters, interactive_evaluation, data_context, runtime_configuration)\u001b[0m\n\u001b[0;32m   1254\u001b[0m \u001b[38;5;28mself\u001b[39m\u001b[38;5;241m.\u001b[39m_warn_if_result_format_config_in_expectation_configuration(\n\u001b[0;32m   1255\u001b[0m     configuration\u001b[38;5;241m=\u001b[39mconfiguration\n\u001b[0;32m   1256\u001b[0m )\n\u001b[0;32m   1258\u001b[0m configuration\u001b[38;5;241m.\u001b[39mprocess_evaluation_parameters(\n\u001b[0;32m   1259\u001b[0m     evaluation_parameters, interactive_evaluation, data_context\n\u001b[0;32m   1260\u001b[0m )\n\u001b[0;32m   1261\u001b[0m expectation_validation_result_list: \u001b[38;5;28mlist\u001b[39m[\n\u001b[0;32m   1262\u001b[0m     ExpectationValidationResult\n\u001b[1;32m-> 1263\u001b[0m ] \u001b[38;5;241m=\u001b[39m \u001b[43mvalidator\u001b[49m\u001b[38;5;241;43m.\u001b[39;49m\u001b[43mgraph_validate\u001b[49m\u001b[43m(\u001b[49m\n\u001b[0;32m   1264\u001b[0m \u001b[43m    \u001b[49m\u001b[43mconfigurations\u001b[49m\u001b[38;5;241;43m=\u001b[39;49m\u001b[43m[\u001b[49m\u001b[43mconfiguration\u001b[49m\u001b[43m]\u001b[49m\u001b[43m,\u001b[49m\n\u001b[0;32m   1265\u001b[0m \u001b[43m    \u001b[49m\u001b[43mruntime_configuration\u001b[49m\u001b[38;5;241;43m=\u001b[39;49m\u001b[43mruntime_configuration\u001b[49m\u001b[43m,\u001b[49m\n\u001b[0;32m   1266\u001b[0m \u001b[43m\u001b[49m\u001b[43m)\u001b[49m\n\u001b[0;32m   1267\u001b[0m \u001b[38;5;28;01mreturn\u001b[39;00m expectation_validation_result_list[\u001b[38;5;241m0\u001b[39m]\n",
      "File \u001b[1;32m~\\AppData\\Local\\Packages\\PythonSoftwareFoundation.Python.3.10_qbz5n2kfra8p0\\LocalCache\\local-packages\\Python310\\site-packages\\great_expectations\\validator\\validator.py:1057\u001b[0m, in \u001b[0;36mValidator.graph_validate\u001b[1;34m(self, configurations, runtime_configuration)\u001b[0m\n\u001b[0;32m   1055\u001b[0m         \u001b[38;5;28;01mreturn\u001b[39;00m evrs\n\u001b[0;32m   1056\u001b[0m     \u001b[38;5;28;01melse\u001b[39;00m:\n\u001b[1;32m-> 1057\u001b[0m         \u001b[38;5;28;01mraise\u001b[39;00m err\n\u001b[0;32m   1059\u001b[0m configuration: ExpectationConfiguration\n\u001b[0;32m   1060\u001b[0m result: ExpectationValidationResult\n",
      "File \u001b[1;32m~\\AppData\\Local\\Packages\\PythonSoftwareFoundation.Python.3.10_qbz5n2kfra8p0\\LocalCache\\local-packages\\Python310\\site-packages\\great_expectations\\validator\\validator.py:1036\u001b[0m, in \u001b[0;36mValidator.graph_validate\u001b[1;34m(self, configurations, runtime_configuration)\u001b[0m\n\u001b[0;32m   1029\u001b[0m resolved_metrics: Dict[Tuple[\u001b[38;5;28mstr\u001b[39m, \u001b[38;5;28mstr\u001b[39m, \u001b[38;5;28mstr\u001b[39m], MetricValue]\n\u001b[0;32m   1031\u001b[0m \u001b[38;5;28;01mtry\u001b[39;00m:\n\u001b[0;32m   1032\u001b[0m     (\n\u001b[0;32m   1033\u001b[0m         resolved_metrics,\n\u001b[0;32m   1034\u001b[0m         evrs,\n\u001b[0;32m   1035\u001b[0m         processed_configurations,\n\u001b[1;32m-> 1036\u001b[0m     ) \u001b[38;5;241m=\u001b[39m \u001b[38;5;28;43mself\u001b[39;49m\u001b[38;5;241;43m.\u001b[39;49m\u001b[43m_resolve_suite_level_graph_and_process_metric_evaluation_errors\u001b[49m\u001b[43m(\u001b[49m\n\u001b[0;32m   1037\u001b[0m \u001b[43m        \u001b[49m\u001b[43mgraph\u001b[49m\u001b[38;5;241;43m=\u001b[39;49m\u001b[43mgraph\u001b[49m\u001b[43m,\u001b[49m\n\u001b[0;32m   1038\u001b[0m \u001b[43m        \u001b[49m\u001b[43mruntime_configuration\u001b[49m\u001b[38;5;241;43m=\u001b[39;49m\u001b[43mruntime_configuration\u001b[49m\u001b[43m,\u001b[49m\n\u001b[0;32m   1039\u001b[0m \u001b[43m        \u001b[49m\u001b[43mexpectation_validation_graphs\u001b[49m\u001b[38;5;241;43m=\u001b[39;49m\u001b[43mexpectation_validation_graphs\u001b[49m\u001b[43m,\u001b[49m\n\u001b[0;32m   1040\u001b[0m \u001b[43m        \u001b[49m\u001b[43mevrs\u001b[49m\u001b[38;5;241;43m=\u001b[39;49m\u001b[43mevrs\u001b[49m\u001b[43m,\u001b[49m\n\u001b[0;32m   1041\u001b[0m \u001b[43m        \u001b[49m\u001b[43mprocessed_configurations\u001b[49m\u001b[38;5;241;43m=\u001b[39;49m\u001b[43mprocessed_configurations\u001b[49m\u001b[43m,\u001b[49m\n\u001b[0;32m   1042\u001b[0m \u001b[43m        \u001b[49m\u001b[43mshow_progress_bars\u001b[49m\u001b[38;5;241;43m=\u001b[39;49m\u001b[38;5;28;43mself\u001b[39;49m\u001b[38;5;241;43m.\u001b[39;49m\u001b[43m_determine_progress_bars\u001b[49m\u001b[43m(\u001b[49m\u001b[43m)\u001b[49m\u001b[43m,\u001b[49m\n\u001b[0;32m   1043\u001b[0m \u001b[43m    \u001b[49m\u001b[43m)\u001b[49m\n\u001b[0;32m   1044\u001b[0m \u001b[38;5;28;01mexcept\u001b[39;00m \u001b[38;5;167;01mException\u001b[39;00m \u001b[38;5;28;01mas\u001b[39;00m err:\n\u001b[0;32m   1045\u001b[0m     \u001b[38;5;66;03m# If a general Exception occurs during the execution of \"ValidationGraph.resolve()\", then\u001b[39;00m\n\u001b[0;32m   1046\u001b[0m     \u001b[38;5;66;03m# all expectations in the suite are impacted, because it is impossible to attribute the failure to a metric.\u001b[39;00m\n\u001b[0;32m   1047\u001b[0m     \u001b[38;5;28;01mif\u001b[39;00m catch_exceptions:\n",
      "File \u001b[1;32m~\\AppData\\Local\\Packages\\PythonSoftwareFoundation.Python.3.10_qbz5n2kfra8p0\\LocalCache\\local-packages\\Python310\\site-packages\\great_expectations\\validator\\validator.py:1195\u001b[0m, in \u001b[0;36mValidator._resolve_suite_level_graph_and_process_metric_evaluation_errors\u001b[1;34m(self, graph, runtime_configuration, expectation_validation_graphs, evrs, processed_configurations, show_progress_bars)\u001b[0m\n\u001b[0;32m   1187\u001b[0m resolved_metrics: Dict[Tuple[\u001b[38;5;28mstr\u001b[39m, \u001b[38;5;28mstr\u001b[39m, \u001b[38;5;28mstr\u001b[39m], MetricValue]\n\u001b[0;32m   1188\u001b[0m aborted_metrics_info: Dict[\n\u001b[0;32m   1189\u001b[0m     Tuple[\u001b[38;5;28mstr\u001b[39m, \u001b[38;5;28mstr\u001b[39m, \u001b[38;5;28mstr\u001b[39m],\n\u001b[0;32m   1190\u001b[0m     Dict[\u001b[38;5;28mstr\u001b[39m, Union[MetricConfiguration, Set[ExceptionInfo], \u001b[38;5;28mint\u001b[39m]],\n\u001b[0;32m   1191\u001b[0m ]\n\u001b[0;32m   1192\u001b[0m (\n\u001b[0;32m   1193\u001b[0m     resolved_metrics,\n\u001b[0;32m   1194\u001b[0m     aborted_metrics_info,\n\u001b[1;32m-> 1195\u001b[0m ) \u001b[38;5;241m=\u001b[39m \u001b[38;5;28;43mself\u001b[39;49m\u001b[38;5;241;43m.\u001b[39;49m\u001b[43m_metrics_calculator\u001b[49m\u001b[38;5;241;43m.\u001b[39;49m\u001b[43mresolve_validation_graph\u001b[49m\u001b[43m(\u001b[49m\n\u001b[0;32m   1196\u001b[0m \u001b[43m    \u001b[49m\u001b[43mgraph\u001b[49m\u001b[38;5;241;43m=\u001b[39;49m\u001b[43mgraph\u001b[49m\u001b[43m,\u001b[49m\n\u001b[0;32m   1197\u001b[0m \u001b[43m    \u001b[49m\u001b[43mruntime_configuration\u001b[49m\u001b[38;5;241;43m=\u001b[39;49m\u001b[43mruntime_configuration\u001b[49m\u001b[43m,\u001b[49m\n\u001b[0;32m   1198\u001b[0m \u001b[43m    \u001b[49m\u001b[43mmin_graph_edges_pbar_enable\u001b[49m\u001b[38;5;241;43m=\u001b[39;49m\u001b[38;5;241;43m0\u001b[39;49m\u001b[43m,\u001b[49m\n\u001b[0;32m   1199\u001b[0m \u001b[43m\u001b[49m\u001b[43m)\u001b[49m\n\u001b[0;32m   1201\u001b[0m \u001b[38;5;66;03m# Trace MetricResolutionError occurrences to expectations relying on corresponding malfunctioning metrics.\u001b[39;00m\n\u001b[0;32m   1202\u001b[0m rejected_configurations: List[ExpectationConfiguration] \u001b[38;5;241m=\u001b[39m []\n",
      "File \u001b[1;32m~\\AppData\\Local\\Packages\\PythonSoftwareFoundation.Python.3.10_qbz5n2kfra8p0\\LocalCache\\local-packages\\Python310\\site-packages\\great_expectations\\validator\\metrics_calculator.py:268\u001b[0m, in \u001b[0;36mMetricsCalculator.resolve_validation_graph\u001b[1;34m(self, graph, runtime_configuration, min_graph_edges_pbar_enable)\u001b[0m\n\u001b[0;32m    263\u001b[0m resolved_metrics: Dict[Tuple[\u001b[38;5;28mstr\u001b[39m, \u001b[38;5;28mstr\u001b[39m, \u001b[38;5;28mstr\u001b[39m], MetricValue]\n\u001b[0;32m    264\u001b[0m aborted_metrics_info: Dict[\n\u001b[0;32m    265\u001b[0m     Tuple[\u001b[38;5;28mstr\u001b[39m, \u001b[38;5;28mstr\u001b[39m, \u001b[38;5;28mstr\u001b[39m],\n\u001b[0;32m    266\u001b[0m     Dict[\u001b[38;5;28mstr\u001b[39m, Union[MetricConfiguration, Set[ExceptionInfo], \u001b[38;5;28mint\u001b[39m]],\n\u001b[0;32m    267\u001b[0m ]\n\u001b[1;32m--> 268\u001b[0m resolved_metrics, aborted_metrics_info \u001b[38;5;241m=\u001b[39m \u001b[43mgraph\u001b[49m\u001b[38;5;241;43m.\u001b[39;49m\u001b[43mresolve\u001b[49m\u001b[43m(\u001b[49m\n\u001b[0;32m    269\u001b[0m \u001b[43m    \u001b[49m\u001b[43mruntime_configuration\u001b[49m\u001b[38;5;241;43m=\u001b[39;49m\u001b[43mruntime_configuration\u001b[49m\u001b[43m,\u001b[49m\n\u001b[0;32m    270\u001b[0m \u001b[43m    \u001b[49m\u001b[43mmin_graph_edges_pbar_enable\u001b[49m\u001b[38;5;241;43m=\u001b[39;49m\u001b[43mmin_graph_edges_pbar_enable\u001b[49m\u001b[43m,\u001b[49m\n\u001b[0;32m    271\u001b[0m \u001b[43m    \u001b[49m\u001b[43mshow_progress_bars\u001b[49m\u001b[38;5;241;43m=\u001b[39;49m\u001b[38;5;28;43mself\u001b[39;49m\u001b[38;5;241;43m.\u001b[39;49m\u001b[43m_show_progress_bars\u001b[49m\u001b[43m,\u001b[49m\n\u001b[0;32m    272\u001b[0m \u001b[43m\u001b[49m\u001b[43m)\u001b[49m\n\u001b[0;32m    273\u001b[0m \u001b[38;5;28;01mreturn\u001b[39;00m resolved_metrics, aborted_metrics_info\n",
      "File \u001b[1;32m~\\AppData\\Local\\Packages\\PythonSoftwareFoundation.Python.3.10_qbz5n2kfra8p0\\LocalCache\\local-packages\\Python310\\site-packages\\great_expectations\\validator\\validation_graph.py:200\u001b[0m, in \u001b[0;36mValidationGraph.resolve\u001b[1;34m(self, runtime_configuration, min_graph_edges_pbar_enable, show_progress_bars)\u001b[0m\n\u001b[0;32m    194\u001b[0m resolved_metrics: Dict[Tuple[\u001b[38;5;28mstr\u001b[39m, \u001b[38;5;28mstr\u001b[39m, \u001b[38;5;28mstr\u001b[39m], MetricValue] \u001b[38;5;241m=\u001b[39m {}\n\u001b[0;32m    196\u001b[0m \u001b[38;5;66;03m# updates graph with aborted metrics\u001b[39;00m\n\u001b[0;32m    197\u001b[0m aborted_metrics_info: Dict[\n\u001b[0;32m    198\u001b[0m     Tuple[\u001b[38;5;28mstr\u001b[39m, \u001b[38;5;28mstr\u001b[39m, \u001b[38;5;28mstr\u001b[39m],\n\u001b[0;32m    199\u001b[0m     Dict[\u001b[38;5;28mstr\u001b[39m, Union[MetricConfiguration, Set[ExceptionInfo], \u001b[38;5;28mint\u001b[39m]],\n\u001b[1;32m--> 200\u001b[0m ] \u001b[38;5;241m=\u001b[39m \u001b[38;5;28;43mself\u001b[39;49m\u001b[38;5;241;43m.\u001b[39;49m\u001b[43m_resolve\u001b[49m\u001b[43m(\u001b[49m\n\u001b[0;32m    201\u001b[0m \u001b[43m    \u001b[49m\u001b[43mmetrics\u001b[49m\u001b[38;5;241;43m=\u001b[39;49m\u001b[43mresolved_metrics\u001b[49m\u001b[43m,\u001b[49m\n\u001b[0;32m    202\u001b[0m \u001b[43m    \u001b[49m\u001b[43mruntime_configuration\u001b[49m\u001b[38;5;241;43m=\u001b[39;49m\u001b[43mruntime_configuration\u001b[49m\u001b[43m,\u001b[49m\n\u001b[0;32m    203\u001b[0m \u001b[43m    \u001b[49m\u001b[43mmin_graph_edges_pbar_enable\u001b[49m\u001b[38;5;241;43m=\u001b[39;49m\u001b[43mmin_graph_edges_pbar_enable\u001b[49m\u001b[43m,\u001b[49m\n\u001b[0;32m    204\u001b[0m \u001b[43m    \u001b[49m\u001b[43mshow_progress_bars\u001b[49m\u001b[38;5;241;43m=\u001b[39;49m\u001b[43mshow_progress_bars\u001b[49m\u001b[43m,\u001b[49m\n\u001b[0;32m    205\u001b[0m \u001b[43m\u001b[49m\u001b[43m)\u001b[49m\n\u001b[0;32m    207\u001b[0m \u001b[38;5;28;01mreturn\u001b[39;00m resolved_metrics, aborted_metrics_info\n",
      "File \u001b[1;32m~\\AppData\\Local\\Packages\\PythonSoftwareFoundation.Python.3.10_qbz5n2kfra8p0\\LocalCache\\local-packages\\Python310\\site-packages\\great_expectations\\validator\\validation_graph.py:306\u001b[0m, in \u001b[0;36mValidationGraph._resolve\u001b[1;34m(self, metrics, runtime_configuration, min_graph_edges_pbar_enable, show_progress_bars)\u001b[0m\n\u001b[0;32m    302\u001b[0m                 failed_metric_info[failed_metric\u001b[38;5;241m.\u001b[39mid][\u001b[38;5;124m\"\u001b[39m\u001b[38;5;124mexception_info\u001b[39m\u001b[38;5;124m\"\u001b[39m] \u001b[38;5;241m=\u001b[39m {\n\u001b[0;32m    303\u001b[0m                     exception_info\n\u001b[0;32m    304\u001b[0m                 }\n\u001b[0;32m    305\u001b[0m     \u001b[38;5;28;01melse\u001b[39;00m:\n\u001b[1;32m--> 306\u001b[0m         \u001b[38;5;28;01mraise\u001b[39;00m err\n\u001b[0;32m    307\u001b[0m \u001b[38;5;28;01mexcept\u001b[39;00m \u001b[38;5;167;01mException\u001b[39;00m \u001b[38;5;28;01mas\u001b[39;00m e:\n\u001b[0;32m    308\u001b[0m     \u001b[38;5;28;01mif\u001b[39;00m catch_exceptions:\n",
      "File \u001b[1;32m~\\AppData\\Local\\Packages\\PythonSoftwareFoundation.Python.3.10_qbz5n2kfra8p0\\LocalCache\\local-packages\\Python310\\site-packages\\great_expectations\\validator\\validation_graph.py:276\u001b[0m, in \u001b[0;36mValidationGraph._resolve\u001b[1;34m(self, metrics, runtime_configuration, min_graph_edges_pbar_enable, show_progress_bars)\u001b[0m\n\u001b[0;32m    271\u001b[0m         computable_metrics\u001b[38;5;241m.\u001b[39madd(metric)\n\u001b[0;32m    273\u001b[0m \u001b[38;5;28;01mtry\u001b[39;00m:\n\u001b[0;32m    274\u001b[0m     \u001b[38;5;66;03m# Access \"ExecutionEngine.resolve_metrics()\" method, to resolve missing \"MetricConfiguration\" objects.\u001b[39;00m\n\u001b[0;32m    275\u001b[0m     metrics\u001b[38;5;241m.\u001b[39mupdate(\n\u001b[1;32m--> 276\u001b[0m         \u001b[38;5;28;43mself\u001b[39;49m\u001b[38;5;241;43m.\u001b[39;49m\u001b[43m_execution_engine\u001b[49m\u001b[38;5;241;43m.\u001b[39;49m\u001b[43mresolve_metrics\u001b[49m\u001b[43m(\u001b[49m\n\u001b[0;32m    277\u001b[0m \u001b[43m            \u001b[49m\u001b[43mmetrics_to_resolve\u001b[49m\u001b[38;5;241;43m=\u001b[39;49m\u001b[43mcomputable_metrics\u001b[49m\u001b[43m,\u001b[49m\n\u001b[0;32m    278\u001b[0m \u001b[43m            \u001b[49m\u001b[43mmetrics\u001b[49m\u001b[38;5;241;43m=\u001b[39;49m\u001b[43mmetrics\u001b[49m\u001b[43m,\u001b[49m\n\u001b[0;32m    279\u001b[0m \u001b[43m            \u001b[49m\u001b[43mruntime_configuration\u001b[49m\u001b[38;5;241;43m=\u001b[39;49m\u001b[43mruntime_configuration\u001b[49m\u001b[43m,\u001b[49m\n\u001b[0;32m    280\u001b[0m \u001b[43m        \u001b[49m\u001b[43m)\u001b[49m\n\u001b[0;32m    281\u001b[0m     )\n\u001b[0;32m    282\u001b[0m     progress_bar\u001b[38;5;241m.\u001b[39mupdate(\u001b[38;5;28mlen\u001b[39m(computable_metrics))\n\u001b[0;32m    283\u001b[0m     progress_bar\u001b[38;5;241m.\u001b[39mrefresh()\n",
      "File \u001b[1;32m~\\AppData\\Local\\Packages\\PythonSoftwareFoundation.Python.3.10_qbz5n2kfra8p0\\LocalCache\\local-packages\\Python310\\site-packages\\great_expectations\\execution_engine\\execution_engine.py:290\u001b[0m, in \u001b[0;36mExecutionEngine.resolve_metrics\u001b[1;34m(self, metrics_to_resolve, metrics, runtime_configuration)\u001b[0m\n\u001b[0;32m    281\u001b[0m metric_fn_bundle_configurations: List[MetricComputationConfiguration]\n\u001b[0;32m    282\u001b[0m (\n\u001b[0;32m    283\u001b[0m     metric_fn_direct_configurations,\n\u001b[0;32m    284\u001b[0m     metric_fn_bundle_configurations,\n\u001b[1;32m   (...)\u001b[0m\n\u001b[0;32m    288\u001b[0m     runtime_configuration\u001b[38;5;241m=\u001b[39mruntime_configuration,\n\u001b[0;32m    289\u001b[0m )\n\u001b[1;32m--> 290\u001b[0m \u001b[38;5;28;01mreturn\u001b[39;00m \u001b[38;5;28;43mself\u001b[39;49m\u001b[38;5;241;43m.\u001b[39;49m\u001b[43m_process_direct_and_bundled_metric_computation_configurations\u001b[49m\u001b[43m(\u001b[49m\n\u001b[0;32m    291\u001b[0m \u001b[43m    \u001b[49m\u001b[43mmetric_fn_direct_configurations\u001b[49m\u001b[38;5;241;43m=\u001b[39;49m\u001b[43mmetric_fn_direct_configurations\u001b[49m\u001b[43m,\u001b[49m\n\u001b[0;32m    292\u001b[0m \u001b[43m    \u001b[49m\u001b[43mmetric_fn_bundle_configurations\u001b[49m\u001b[38;5;241;43m=\u001b[39;49m\u001b[43mmetric_fn_bundle_configurations\u001b[49m\u001b[43m,\u001b[49m\n\u001b[0;32m    293\u001b[0m \u001b[43m\u001b[49m\u001b[43m)\u001b[49m\n",
      "File \u001b[1;32m~\\AppData\\Local\\Packages\\PythonSoftwareFoundation.Python.3.10_qbz5n2kfra8p0\\LocalCache\\local-packages\\Python310\\site-packages\\great_expectations\\execution_engine\\execution_engine.py:559\u001b[0m, in \u001b[0;36mExecutionEngine._process_direct_and_bundled_metric_computation_configurations\u001b[1;34m(self, metric_fn_direct_configurations, metric_fn_bundle_configurations)\u001b[0m\n\u001b[0;32m    553\u001b[0m         resolved_metrics[\n\u001b[0;32m    554\u001b[0m             metric_computation_configuration\u001b[38;5;241m.\u001b[39mmetric_configuration\u001b[38;5;241m.\u001b[39mid\n\u001b[0;32m    555\u001b[0m         ] \u001b[38;5;241m=\u001b[39m metric_computation_configuration\u001b[38;5;241m.\u001b[39mmetric_fn(\n\u001b[0;32m    556\u001b[0m             \u001b[38;5;241m*\u001b[39m\u001b[38;5;241m*\u001b[39mmetric_computation_configuration\u001b[38;5;241m.\u001b[39mmetric_provider_kwargs\n\u001b[0;32m    557\u001b[0m         )\n\u001b[0;32m    558\u001b[0m     \u001b[38;5;28;01mexcept\u001b[39;00m \u001b[38;5;167;01mException\u001b[39;00m \u001b[38;5;28;01mas\u001b[39;00m e:\n\u001b[1;32m--> 559\u001b[0m         \u001b[38;5;28;01mraise\u001b[39;00m gx_exceptions\u001b[38;5;241m.\u001b[39mMetricResolutionError(\n\u001b[0;32m    560\u001b[0m             message\u001b[38;5;241m=\u001b[39m\u001b[38;5;28mstr\u001b[39m(e),\n\u001b[0;32m    561\u001b[0m             failed_metrics\u001b[38;5;241m=\u001b[39m(\n\u001b[0;32m    562\u001b[0m                 metric_computation_configuration\u001b[38;5;241m.\u001b[39mmetric_configuration,\n\u001b[0;32m    563\u001b[0m             ),\n\u001b[0;32m    564\u001b[0m         ) \u001b[38;5;28;01mfrom\u001b[39;00m \u001b[38;5;21;01me\u001b[39;00m\n\u001b[0;32m    566\u001b[0m \u001b[38;5;28;01mtry\u001b[39;00m:\n\u001b[0;32m    567\u001b[0m     \u001b[38;5;66;03m# an engine-specific way of computing metrics together\u001b[39;00m\n\u001b[0;32m    568\u001b[0m     resolved_metric_bundle: Dict[\n\u001b[0;32m    569\u001b[0m         Tuple[\u001b[38;5;28mstr\u001b[39m, \u001b[38;5;28mstr\u001b[39m, \u001b[38;5;28mstr\u001b[39m], MetricValue\n\u001b[0;32m    570\u001b[0m     ] \u001b[38;5;241m=\u001b[39m \u001b[38;5;28mself\u001b[39m\u001b[38;5;241m.\u001b[39mresolve_metric_bundle(\n\u001b[0;32m    571\u001b[0m         metric_fn_bundle\u001b[38;5;241m=\u001b[39mmetric_fn_bundle_configurations\n\u001b[0;32m    572\u001b[0m     )\n",
      "\u001b[1;31mMetricResolutionError\u001b[0m: Error: The column \"column_name\" in BatchData does not exist."
     ]
    }
   ],
   "source": [
    "from validation_suite import run_combined_validation\n",
    "\n",
    "# send to datahub action\n",
    "custom_actions = {\n",
    "    \"send_to_datahub\": {\n",
    "        \"class_name\": \"DataHubValidationAction\",\n",
    "        \"module_name\": \"datahub.integrations.great_expectations.action\",\n",
    "        \"server_url\": datahub_server_url,\n",
    "        \"token\": datahub_token,\n",
    "    }\n",
    "}\n",
    "\n",
    "# run tests from validation suite\n",
    "batch_requests_and_suites = run_combined_validation(context)\n"
   ]
  },
  {
   "cell_type": "code",
   "execution_count": null,
   "metadata": {},
   "outputs": [],
   "source": [
    "\n",
    "# cycle through batch requests\n",
    "for batch_request, expectation_suite_name in batch_requests_and_suites:\n",
    "    checkpoint_config = {\n",
    "        \"name\": f\"my_pg_checkpoint_{expectation_suite_name}\",\n",
    "        \"config_version\": 1.0,\n",
    "        \"class_name\": \"Checkpoint\",\n",
    "        \"run_name_template\": \"%Y-%m-%d-%H-%M-%S-my-checkpoint\",\n",
    "        \"expectation_suite_name\": expectation_suite_name,\n",
    "        \"batch_request\": batch_request,\n",
    "        \"action_list\": [\n",
    "            {\n",
    "                \"name\": \"store_validation_result\",\n",
    "                \"action\": {\n",
    "                    \"class_name\": \"StoreValidationResultAction\",\n",
    "                },\n",
    "            },\n",
    "            {\n",
    "                \"name\": \"store_evaluation_params\",\n",
    "                \"action\": {\n",
    "                    \"class_name\": \"StoreEvaluationParametersAction\",\n",
    "                },\n",
    "            },\n",
    "            {\n",
    "                \"name\": \"send_to_datahub\",\n",
    "                \"action\": custom_actions[\"send_to_datahub\"],\n",
    "            },\n",
    "        ],\n",
    "    }\n",
    "    \n",
    "    # Add and run the checkpoint\n",
    "    context.add_checkpoint(**checkpoint_config)\n",
    "    context.run_checkpoint(checkpoint_name=f\"my_pg_checkpoint_{expectation_suite_name}\")\n"
   ]
  }
 ],
 "metadata": {
  "kernelspec": {
   "display_name": "Python 3",
   "language": "python",
   "name": "python3"
  },
  "language_info": {
   "codemirror_mode": {
    "name": "ipython",
    "version": 3
   },
   "file_extension": ".py",
   "mimetype": "text/x-python",
   "name": "python",
   "nbconvert_exporter": "python",
   "pygments_lexer": "ipython3",
   "version": "3.10.11"
  }
 },
 "nbformat": 4,
 "nbformat_minor": 2
}
